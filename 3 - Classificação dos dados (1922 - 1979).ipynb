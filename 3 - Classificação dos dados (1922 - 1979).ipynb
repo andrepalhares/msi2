{
 "cells": [
  {
   "cell_type": "code",
   "execution_count": 1,
   "id": "b47173c0",
   "metadata": {},
   "outputs": [],
   "source": [
    "import pandas as pd\n",
    "import numpy as np\n",
    "from sklearn.model_selection import train_test_split\n",
    "from sklearn.preprocessing import StandardScaler\n",
    "from sklearn.neighbors import KNeighborsClassifier \n",
    "from sklearn.metrics import confusion_matrix\n",
    "from sklearn.metrics import f1_score\n",
    "from sklearn.metrics import accuracy_score\n",
    "from sklearn.metrics import plot_confusion_matrix\n",
    "import matplotlib.pyplot as plt"
   ]
  },
  {
   "cell_type": "code",
   "execution_count": 2,
   "id": "0f4de8d0",
   "metadata": {},
   "outputs": [
    {
     "data": {
      "text/html": [
       "<div>\n",
       "<style scoped>\n",
       "    .dataframe tbody tr th:only-of-type {\n",
       "        vertical-align: middle;\n",
       "    }\n",
       "\n",
       "    .dataframe tbody tr th {\n",
       "        vertical-align: top;\n",
       "    }\n",
       "\n",
       "    .dataframe thead th {\n",
       "        text-align: right;\n",
       "    }\n",
       "</style>\n",
       "<table border=\"1\" class=\"dataframe\">\n",
       "  <thead>\n",
       "    <tr style=\"text-align: right;\">\n",
       "      <th></th>\n",
       "      <th>id</th>\n",
       "      <th>name</th>\n",
       "      <th>album</th>\n",
       "      <th>album_id</th>\n",
       "      <th>artists</th>\n",
       "      <th>artist_ids</th>\n",
       "      <th>track_number</th>\n",
       "      <th>disc_number</th>\n",
       "      <th>explicit</th>\n",
       "      <th>danceability</th>\n",
       "      <th>...</th>\n",
       "      <th>speechiness</th>\n",
       "      <th>acousticness</th>\n",
       "      <th>instrumentalness</th>\n",
       "      <th>liveness</th>\n",
       "      <th>valence</th>\n",
       "      <th>tempo</th>\n",
       "      <th>duration_ms</th>\n",
       "      <th>time_signature</th>\n",
       "      <th>year</th>\n",
       "      <th>release_date</th>\n",
       "    </tr>\n",
       "  </thead>\n",
       "  <tbody>\n",
       "    <tr>\n",
       "      <th>0</th>\n",
       "      <td>7lmeHLHBe4nmXzuXc0HDjk</td>\n",
       "      <td>Testify</td>\n",
       "      <td>The Battle Of Los Angeles</td>\n",
       "      <td>2eia0myWFgoHuttJytCxgX</td>\n",
       "      <td>['Rage Against The Machine']</td>\n",
       "      <td>['2d0hyoQ5ynDBnkvAbJKORj']</td>\n",
       "      <td>1</td>\n",
       "      <td>1</td>\n",
       "      <td>False</td>\n",
       "      <td>0.470</td>\n",
       "      <td>...</td>\n",
       "      <td>0.0727</td>\n",
       "      <td>0.02610</td>\n",
       "      <td>0.000011</td>\n",
       "      <td>0.3560</td>\n",
       "      <td>0.503</td>\n",
       "      <td>117.906</td>\n",
       "      <td>210133</td>\n",
       "      <td>4.0</td>\n",
       "      <td>1999</td>\n",
       "      <td>1999-11-02</td>\n",
       "    </tr>\n",
       "    <tr>\n",
       "      <th>1</th>\n",
       "      <td>1wsRitfRRtWyEapl0q22o8</td>\n",
       "      <td>Guerrilla Radio</td>\n",
       "      <td>The Battle Of Los Angeles</td>\n",
       "      <td>2eia0myWFgoHuttJytCxgX</td>\n",
       "      <td>['Rage Against The Machine']</td>\n",
       "      <td>['2d0hyoQ5ynDBnkvAbJKORj']</td>\n",
       "      <td>2</td>\n",
       "      <td>1</td>\n",
       "      <td>True</td>\n",
       "      <td>0.599</td>\n",
       "      <td>...</td>\n",
       "      <td>0.1880</td>\n",
       "      <td>0.01290</td>\n",
       "      <td>0.000071</td>\n",
       "      <td>0.1550</td>\n",
       "      <td>0.489</td>\n",
       "      <td>103.680</td>\n",
       "      <td>206200</td>\n",
       "      <td>4.0</td>\n",
       "      <td>1999</td>\n",
       "      <td>1999-11-02</td>\n",
       "    </tr>\n",
       "    <tr>\n",
       "      <th>2</th>\n",
       "      <td>1hR0fIFK2qRG3f3RF70pb7</td>\n",
       "      <td>Calm Like a Bomb</td>\n",
       "      <td>The Battle Of Los Angeles</td>\n",
       "      <td>2eia0myWFgoHuttJytCxgX</td>\n",
       "      <td>['Rage Against The Machine']</td>\n",
       "      <td>['2d0hyoQ5ynDBnkvAbJKORj']</td>\n",
       "      <td>3</td>\n",
       "      <td>1</td>\n",
       "      <td>False</td>\n",
       "      <td>0.315</td>\n",
       "      <td>...</td>\n",
       "      <td>0.4830</td>\n",
       "      <td>0.02340</td>\n",
       "      <td>0.000002</td>\n",
       "      <td>0.1220</td>\n",
       "      <td>0.370</td>\n",
       "      <td>149.749</td>\n",
       "      <td>298893</td>\n",
       "      <td>4.0</td>\n",
       "      <td>1999</td>\n",
       "      <td>1999-11-02</td>\n",
       "    </tr>\n",
       "    <tr>\n",
       "      <th>3</th>\n",
       "      <td>2lbASgTSoDO7MTuLAXlTW0</td>\n",
       "      <td>Mic Check</td>\n",
       "      <td>The Battle Of Los Angeles</td>\n",
       "      <td>2eia0myWFgoHuttJytCxgX</td>\n",
       "      <td>['Rage Against The Machine']</td>\n",
       "      <td>['2d0hyoQ5ynDBnkvAbJKORj']</td>\n",
       "      <td>4</td>\n",
       "      <td>1</td>\n",
       "      <td>True</td>\n",
       "      <td>0.440</td>\n",
       "      <td>...</td>\n",
       "      <td>0.2370</td>\n",
       "      <td>0.16300</td>\n",
       "      <td>0.000004</td>\n",
       "      <td>0.1210</td>\n",
       "      <td>0.574</td>\n",
       "      <td>96.752</td>\n",
       "      <td>213640</td>\n",
       "      <td>4.0</td>\n",
       "      <td>1999</td>\n",
       "      <td>1999-11-02</td>\n",
       "    </tr>\n",
       "    <tr>\n",
       "      <th>4</th>\n",
       "      <td>1MQTmpYOZ6fcMQc56Hdo7T</td>\n",
       "      <td>Sleep Now In the Fire</td>\n",
       "      <td>The Battle Of Los Angeles</td>\n",
       "      <td>2eia0myWFgoHuttJytCxgX</td>\n",
       "      <td>['Rage Against The Machine']</td>\n",
       "      <td>['2d0hyoQ5ynDBnkvAbJKORj']</td>\n",
       "      <td>5</td>\n",
       "      <td>1</td>\n",
       "      <td>False</td>\n",
       "      <td>0.426</td>\n",
       "      <td>...</td>\n",
       "      <td>0.0701</td>\n",
       "      <td>0.00162</td>\n",
       "      <td>0.105000</td>\n",
       "      <td>0.0789</td>\n",
       "      <td>0.539</td>\n",
       "      <td>127.059</td>\n",
       "      <td>205600</td>\n",
       "      <td>4.0</td>\n",
       "      <td>1999</td>\n",
       "      <td>1999-11-02</td>\n",
       "    </tr>\n",
       "  </tbody>\n",
       "</table>\n",
       "<p>5 rows × 24 columns</p>\n",
       "</div>"
      ],
      "text/plain": [
       "                       id                   name                      album  \\\n",
       "0  7lmeHLHBe4nmXzuXc0HDjk                Testify  The Battle Of Los Angeles   \n",
       "1  1wsRitfRRtWyEapl0q22o8        Guerrilla Radio  The Battle Of Los Angeles   \n",
       "2  1hR0fIFK2qRG3f3RF70pb7       Calm Like a Bomb  The Battle Of Los Angeles   \n",
       "3  2lbASgTSoDO7MTuLAXlTW0              Mic Check  The Battle Of Los Angeles   \n",
       "4  1MQTmpYOZ6fcMQc56Hdo7T  Sleep Now In the Fire  The Battle Of Los Angeles   \n",
       "\n",
       "                 album_id                       artists  \\\n",
       "0  2eia0myWFgoHuttJytCxgX  ['Rage Against The Machine']   \n",
       "1  2eia0myWFgoHuttJytCxgX  ['Rage Against The Machine']   \n",
       "2  2eia0myWFgoHuttJytCxgX  ['Rage Against The Machine']   \n",
       "3  2eia0myWFgoHuttJytCxgX  ['Rage Against The Machine']   \n",
       "4  2eia0myWFgoHuttJytCxgX  ['Rage Against The Machine']   \n",
       "\n",
       "                   artist_ids  track_number  disc_number  explicit  \\\n",
       "0  ['2d0hyoQ5ynDBnkvAbJKORj']             1            1     False   \n",
       "1  ['2d0hyoQ5ynDBnkvAbJKORj']             2            1      True   \n",
       "2  ['2d0hyoQ5ynDBnkvAbJKORj']             3            1     False   \n",
       "3  ['2d0hyoQ5ynDBnkvAbJKORj']             4            1      True   \n",
       "4  ['2d0hyoQ5ynDBnkvAbJKORj']             5            1     False   \n",
       "\n",
       "   danceability  ...  speechiness  acousticness  instrumentalness  liveness  \\\n",
       "0         0.470  ...       0.0727       0.02610          0.000011    0.3560   \n",
       "1         0.599  ...       0.1880       0.01290          0.000071    0.1550   \n",
       "2         0.315  ...       0.4830       0.02340          0.000002    0.1220   \n",
       "3         0.440  ...       0.2370       0.16300          0.000004    0.1210   \n",
       "4         0.426  ...       0.0701       0.00162          0.105000    0.0789   \n",
       "\n",
       "   valence    tempo  duration_ms  time_signature  year  release_date  \n",
       "0    0.503  117.906       210133             4.0  1999    1999-11-02  \n",
       "1    0.489  103.680       206200             4.0  1999    1999-11-02  \n",
       "2    0.370  149.749       298893             4.0  1999    1999-11-02  \n",
       "3    0.574   96.752       213640             4.0  1999    1999-11-02  \n",
       "4    0.539  127.059       205600             4.0  1999    1999-11-02  \n",
       "\n",
       "[5 rows x 24 columns]"
      ]
     },
     "execution_count": 2,
     "metadata": {},
     "output_type": "execute_result"
    }
   ],
   "source": [
    "df = pd.read_csv('tracks_features.csv')\n",
    "df = df[df['year'] >= 1922]\n",
    "df.head()"
   ]
  },
  {
   "cell_type": "code",
   "execution_count": 3,
   "id": "1ed747fb",
   "metadata": {},
   "outputs": [],
   "source": [
    "def obter_decada(linha):\n",
    "    ano = str(linha['year'])\n",
    "    return int(ano[:3] + \"0\")\n",
    "\n",
    "df['decade'] = df.apply (lambda x: obter_decada(x), axis=1)"
   ]
  },
  {
   "cell_type": "code",
   "execution_count": 4,
   "id": "8fac6360",
   "metadata": {},
   "outputs": [
    {
     "data": {
      "text/plain": [
       "decade\n",
       "1920       436\n",
       "1930       453\n",
       "1940       653\n",
       "1950      3159\n",
       "1960      8784\n",
       "1970     17183\n",
       "1980     28595\n",
       "1990    153049\n",
       "2000    423753\n",
       "2010    498089\n",
       "2020     69726\n",
       "dtype: int64"
      ]
     },
     "execution_count": 4,
     "metadata": {},
     "output_type": "execute_result"
    }
   ],
   "source": [
    "df = df[df['decade'] != \"00\"]\n",
    "df.groupby('decade').size()"
   ]
  },
  {
   "cell_type": "markdown",
   "id": "9eb63390",
   "metadata": {},
   "source": [
    "### UtilIzando o KNN para classificar músicas do período anterior\n",
    "##### Músicas entre 1922 e 1979"
   ]
  },
  {
   "cell_type": "code",
   "execution_count": 5,
   "id": "367dcfe1",
   "metadata": {},
   "outputs": [
    {
     "data": {
      "text/plain": [
       "decade\n",
       "1920    400\n",
       "1930    400\n",
       "1940    400\n",
       "1950    400\n",
       "1960    400\n",
       "1970    400\n",
       "dtype: int64"
      ]
     },
     "execution_count": 5,
     "metadata": {},
     "output_type": "execute_result"
    }
   ],
   "source": [
    "df_1920 = df[df['decade'] == 1920].sample(n=400)\n",
    "df_1930 = df[df['decade'] == 1930].sample(n=400)\n",
    "df_1940 = df[df['decade'] == 1940].sample(n=400)\n",
    "df_1950 = df[df['decade'] == 1950].sample(n=400)\n",
    "df_1960 = df[df['decade'] == 1960].sample(n=400)\n",
    "df_1970 = df[df['decade'] == 1970].sample(n=400)\n",
    "\n",
    "df_1922_a_1980 = pd.concat([df_1920, df_1930, df_1940, df_1950, df_1960, df_1970], ignore_index=True, sort=False)\n",
    "\n",
    "df_1922_a_1980.groupby('decade').size()"
   ]
  },
  {
   "cell_type": "code",
   "execution_count": 6,
   "id": "d1b9f60e",
   "metadata": {},
   "outputs": [],
   "source": [
    "X = df_1922_a_1980[['danceability', 'energy', 'key', 'loudness', 'mode', \n",
    "        'speechiness', 'acousticness', 'instrumentalness', 'liveness', \n",
    "        'valence', 'tempo', 'duration_ms', 'time_signature']]\n",
    "y = df_1922_a_1980['decade']\n",
    "\n",
    "X_train, X_test, y_train, y_test = train_test_split(X, y, test_size=0.3)"
   ]
  },
  {
   "cell_type": "code",
   "execution_count": 7,
   "id": "ec61b296",
   "metadata": {},
   "outputs": [],
   "source": [
    "sc_X = StandardScaler()\n",
    "X_train = sc_X.fit_transform(X_train)\n",
    "X_test = sc_X.fit_transform(X_test)"
   ]
  },
  {
   "cell_type": "markdown",
   "id": "9760c9d2",
   "metadata": {},
   "source": [
    "#### Gerando o melhor valor para k"
   ]
  },
  {
   "cell_type": "code",
   "execution_count": 8,
   "id": "05d787a6",
   "metadata": {},
   "outputs": [
    {
     "data": {
      "text/plain": [
       "GridSearchCV(estimator=KNeighborsClassifier(),\n",
       "             param_grid={'n_neighbors': array([ 10,  15,  20,  25,  30,  35,  40,  45,  50,  55,  60,  65,  70,\n",
       "        75,  80,  85,  90,  95, 100, 105, 110, 115, 120, 125, 130, 135,\n",
       "       140, 145, 150, 155, 160, 165, 170, 175, 180, 185, 190, 195])})"
      ]
     },
     "execution_count": 8,
     "metadata": {},
     "output_type": "execute_result"
    }
   ],
   "source": [
    "from sklearn.model_selection import GridSearchCV\n",
    "\n",
    "knn = KNeighborsClassifier()\n",
    "params = {'n_neighbors': np.arange(10, 200, 5)}\n",
    "knn_gscv = GridSearchCV(knn, params)\n",
    "knn_gscv.fit(X, y)"
   ]
  },
  {
   "cell_type": "code",
   "execution_count": 9,
   "id": "db71fbf4",
   "metadata": {},
   "outputs": [
    {
     "name": "stdout",
     "output_type": "stream",
     "text": [
      "Melhor resultado:  105\n"
     ]
    }
   ],
   "source": [
    "best_k = knn_gscv.best_params_['n_neighbors']\n",
    "print('Melhor resultado: ', best_k)"
   ]
  },
  {
   "cell_type": "markdown",
   "id": "b1092c56",
   "metadata": {},
   "source": [
    "#### Classificação"
   ]
  },
  {
   "cell_type": "code",
   "execution_count": 10,
   "id": "0a729fc5",
   "metadata": {},
   "outputs": [],
   "source": [
    "classifier = KNeighborsClassifier(\n",
    "    n_neighbors=best_k, \n",
    "    p=6, # quantidade de décadas a serem testadas\n",
    "    metric='euclidean')"
   ]
  },
  {
   "cell_type": "code",
   "execution_count": 11,
   "id": "d7c3ef54",
   "metadata": {},
   "outputs": [
    {
     "data": {
      "text/plain": [
       "KNeighborsClassifier(metric='euclidean', n_neighbors=105, p=6)"
      ]
     },
     "execution_count": 11,
     "metadata": {},
     "output_type": "execute_result"
    }
   ],
   "source": [
    "classifier.fit(X_train, y_train)"
   ]
  },
  {
   "cell_type": "code",
   "execution_count": 12,
   "id": "c3a8e8ad",
   "metadata": {},
   "outputs": [],
   "source": [
    "y_pred = classifier.predict(X_test)"
   ]
  },
  {
   "cell_type": "code",
   "execution_count": 13,
   "id": "f6738902",
   "metadata": {},
   "outputs": [
    {
     "name": "stdout",
     "output_type": "stream",
     "text": [
      "[[84 18 12  1  0  1]\n",
      " [74 30 15  4  1 11]\n",
      " [42 18 49  5  3  1]\n",
      " [33 12 39 23  9 13]\n",
      " [17 10 35  9 12 30]\n",
      " [13  8 19 11  6 52]]\n"
     ]
    }
   ],
   "source": [
    "cm = confusion_matrix(y_test, y_pred)\n",
    "print(cm)"
   ]
  },
  {
   "cell_type": "code",
   "execution_count": 14,
   "id": "f85d5fb7",
   "metadata": {},
   "outputs": [
    {
     "name": "stdout",
     "output_type": "stream",
     "text": [
      "f1_score:  0.3200756990720304\n"
     ]
    }
   ],
   "source": [
    "# # https://scikit-learn.org/stable/modules/generated/sklearn.metrics.f1_score.html\n",
    "print('f1_score: ', f1_score(y_test, y_pred, average='weighted'))"
   ]
  },
  {
   "cell_type": "code",
   "execution_count": 15,
   "id": "9392b8a6",
   "metadata": {},
   "outputs": [
    {
     "name": "stdout",
     "output_type": "stream",
     "text": [
      "accuracy_score: 0.3472222222222222\n"
     ]
    }
   ],
   "source": [
    "print('accuracy_score:', accuracy_score(y_test, y_pred))"
   ]
  },
  {
   "cell_type": "code",
   "execution_count": 16,
   "id": "6017f73b",
   "metadata": {},
   "outputs": [
    {
     "data": {
      "image/png": "[encoded data removed]",
      "text/plain": [
       "<Figure size 432x288 with 2 Axes>"
      ]
     },
     "metadata": {
      "needs_background": "light"
     },
     "output_type": "display_data"
    }
   ],
   "source": [
    "disp = plot_confusion_matrix(classifier, X_test, y_test,\n",
    "                             display_labels=[1920, 1930, 1940, 1950, 1960, 1970],\n",
    "                             cmap=plt.cm.Greens,\n",
    "                             normalize='true')\n",
    "plt.xlabel('Valores previstos')\n",
    "plt.ylabel('Valores reais')\n",
    "plt.show()"
   ]
  }
 ],
 "metadata": {
  "kernelspec": {
   "display_name": "Python 3 (ipykernel)",
   "language": "python",
   "name": "python3"
  },
  "language_info": {
   "codemirror_mode": {
    "name": "ipython",
    "version": 3
   },
   "file_extension": ".py",
   "mimetype": "text/x-python",
   "name": "python",
   "nbconvert_exporter": "python",
   "pygments_lexer": "ipython3",
   "version": "3.8.10"
  }
 },
 "nbformat": 4,
 "nbformat_minor": 5
}
