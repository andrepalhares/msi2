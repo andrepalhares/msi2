{
 "cells": [
  {
   "cell_type": "code",
   "execution_count": null,
   "id": "791fb3fd",
   "metadata": {},
   "outputs": [],
   "source": [
    "import requests\n",
    "import base64\n",
    "import datetime\n",
    "from urllib.parse import urlencode\n",
    "from pandas import DataFrame\n",
    "import pandas as pd\n",
    "import requests\n",
    "import numpy as np"
   ]
  },
  {
   "cell_type": "code",
   "execution_count": null,
   "id": "22572f00",
   "metadata": {},
   "outputs": [],
   "source": [
    "# Preencher com client_id gerado através do link developer.spotify.com/dashboard/\n",
    "client_id = '' \n",
    "client_secret = ''"
   ]
  },
  {
   "cell_type": "code",
   "execution_count": null,
   "id": "7f3e3421",
   "metadata": {},
   "outputs": [],
   "source": [
    "def gerar_client_credentials_base64(client_id, client_secret):\n",
    "    client_creds = f\"{client_id}:{client_secret}\"\n",
    "    client_creds_base64 = base64.b64encode(client_creds.encode())\n",
    "    \n",
    "    return client_creds_base64.decode()"
   ]
  },
  {
   "cell_type": "code",
   "execution_count": null,
   "id": "294fd547",
   "metadata": {},
   "outputs": [],
   "source": [
    "class SpotifyAPI(object):\n",
    "    access_token = ''\n",
    "    expires_in = ''\n",
    "    client_id = ''\n",
    "    client_secret = ''\n",
    "    url = \"https://accounts.spotify.com/api/token\"\n",
    "    \n",
    "    def __init__(self, client_id, client_secret):\n",
    "        super().__init__()\n",
    "        self.client_id = client_id\n",
    "        self.client_secret = client_secret\n",
    "        \n",
    "    def autenticacao(self):\n",
    "        r = requests.post(\n",
    "            self.url, \n",
    "            data={\n",
    "                \"grant_type\": \"client_credentials\"\n",
    "            }, \n",
    "            headers={\n",
    "                \"Authorization\": f\"Basic {gerar_client_credentials_base64(self.client_id, self.client_secret)}\"\n",
    "            })\n",
    "\n",
    "        if r.status_code == 200:\n",
    "            resposta = r.json()\n",
    "            \n",
    "            self.access_token = resposta['access_token']\n",
    "            \n",
    "            return True\n",
    "        return False"
   ]
  },
  {
   "cell_type": "code",
   "execution_count": null,
   "id": "64a185ec",
   "metadata": {},
   "outputs": [],
   "source": [
    "spotify = SpotifyAPI(client_id, client_secret)\n",
    "spotify.autenticacao()"
   ]
  },
  {
   "cell_type": "markdown",
   "id": "b99f25b4",
   "metadata": {},
   "source": [
    "## Buscando atributo de popularidade"
   ]
  },
  {
   "cell_type": "code",
   "execution_count": null,
   "id": "e0523750",
   "metadata": {},
   "outputs": [],
   "source": [
    "features_url = \"https://api.spotify.com/v1/tracks?ids=\""
   ]
  },
  {
   "cell_type": "code",
   "execution_count": null,
   "id": "19649f92",
   "metadata": {},
   "outputs": [],
   "source": [
    "df = pd.read_csv('tracks_features.csv')\n",
    "df = df[(df['year'] >= 1922) & (df['year'] < 1980)]"
   ]
  },
  {
   "cell_type": "code",
   "execution_count": null,
   "id": "775e9c67",
   "metadata": {},
   "outputs": [],
   "source": [
    "def obterAtributos(track_id) :\n",
    "    try:\n",
    "        headers= { \"Authorization\": \"Bearer {}\".format(spotify.access_token) }\n",
    "        \n",
    "        features_request = requests.get(features_url + track_id, headers=headers)\n",
    "        \n",
    "        if (features_request.status_code == 401):\n",
    "            spotify.autenticacao()\n",
    "            \n",
    "            headers= { \"Authorization\": \"Bearer {}\".format(spotify.access_token) }\n",
    "            \n",
    "            features_request = requests.get(features_url + track_id, headers=headers)\n",
    "            \n",
    "        features = features_request.json()\n",
    "\n",
    "        if(features is not None):\n",
    "            return [{\n",
    "                'id': o['id'],\n",
    "                'popularity': o['popularity']\n",
    "            } for o in features['tracks']]\n",
    "        else:\n",
    "            print('zero')\n",
    "            return []\n",
    "    except:\n",
    "        print('erro')\n",
    "        return []"
   ]
  },
  {
   "cell_type": "code",
   "execution_count": null,
   "id": "23b1b97e",
   "metadata": {},
   "outputs": [],
   "source": [
    "def obter_popularidade(spotify_id, popularidades):\n",
    "    try:\n",
    "        return [popularidade for popularidade in popularidades \n",
    "                   if popularidade['id'] == spotify_id][0]['popularity']\n",
    "    except:\n",
    "        return -1"
   ]
  },
  {
   "cell_type": "code",
   "execution_count": null,
   "id": "3cc61ae4",
   "metadata": {},
   "outputs": [],
   "source": [
    "df_popularidade = pd.DataFrame()\n",
    "\n",
    "for index, qte in enumerate(np.arange(0, len(df), 50, dtype=int)):\n",
    "    linhas = df[qte:qte+49]\n",
    "\n",
    "    popularidades = obterAtributos(','.join(linhas['id'].tolist()))\n",
    "\n",
    "    for index, linha in linhas.iterrows():\n",
    "        linha = linha.copy()\n",
    "\n",
    "        linhas.loc[index, 'popularity'] = obter_popularidade(linha['id'], popularidades)\n",
    "    \n",
    "    df_popularidade = pd.concat([df_popularidade, linhas])\n",
    "    print(len(df_popularidade))\n",
    "    linhas = pd.DataFrame()"
   ]
  },
  {
   "cell_type": "code",
   "execution_count": null,
   "id": "c803bb35",
   "metadata": {},
   "outputs": [],
   "source": [
    "df_popularidade.to_excel('tracks_features_plus_popularity_1922_1979.xlsx')"
   ]
  }
 ],
 "metadata": {
  "kernelspec": {
   "display_name": "Python 3 (ipykernel)",
   "language": "python",
   "name": "python3"
  },
  "language_info": {
   "codemirror_mode": {
    "name": "ipython",
    "version": 3
   },
   "file_extension": ".py",
   "mimetype": "text/x-python",
   "name": "python",
   "nbconvert_exporter": "python",
   "pygments_lexer": "ipython3",
   "version": "3.8.10"
  }
 },
 "nbformat": 4,
 "nbformat_minor": 5
}
