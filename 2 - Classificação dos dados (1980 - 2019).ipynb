{
 "cells": [
  {
   "cell_type": "markdown",
   "id": "5c7f9847",
   "metadata": {},
   "source": [
    "# Classificação dos dados"
   ]
  },
  {
   "cell_type": "code",
   "execution_count": 1,
   "id": "a3edf88e",
   "metadata": {},
   "outputs": [],
   "source": [
    "import pandas as pd\n",
    "import numpy as np\n",
    "from sklearn.model_selection import train_test_split\n",
    "from sklearn.preprocessing import StandardScaler\n",
    "from sklearn.neighbors import KNeighborsClassifier \n",
    "from sklearn.metrics import confusion_matrix\n",
    "from sklearn.metrics import f1_score\n",
    "from sklearn.metrics import accuracy_score\n",
    "from sklearn.metrics import plot_confusion_matrix\n",
    "import matplotlib.pyplot as plt"
   ]
  },
  {
   "cell_type": "code",
   "execution_count": 2,
   "id": "77b2e692",
   "metadata": {},
   "outputs": [
    {
     "name": "stderr",
     "output_type": "stream",
     "text": [
      "/home/andrepalhares/.local/lib/python3.8/site-packages/pandas/io/excel/_base.py:1272: FutureWarning: Defining usecols with out of bounds indices is deprecated and will raise a ParserError in a future version.\n",
      "  return self._reader.parse(\n"
     ]
    }
   ],
   "source": [
    "df = pd.read_excel('tracks_features_plus_popularity_final.xlsx', usecols=\"C:AB\")"
   ]
  },
  {
   "cell_type": "code",
   "execution_count": 3,
   "id": "61395801",
   "metadata": {},
   "outputs": [],
   "source": [
    "def obter_decada(linha):\n",
    "    ano = str(linha['year'])\n",
    "    return int(ano[:3] + \"0\")\n",
    "\n",
    "df['decade'] = df.apply (lambda x: obter_decada(x), axis=1)"
   ]
  },
  {
   "cell_type": "code",
   "execution_count": 4,
   "id": "eb7958be",
   "metadata": {},
   "outputs": [
    {
     "data": {
      "text/plain": [
       "decade\n",
       "1980     4379\n",
       "1990    29907\n",
       "2000    99990\n",
       "2010    22524\n",
       "dtype: int64"
      ]
     },
     "execution_count": 4,
     "metadata": {},
     "output_type": "execute_result"
    }
   ],
   "source": [
    "df = df[df['decade'] != \"00\"]\n",
    "df.groupby('decade').size()"
   ]
  },
  {
   "cell_type": "markdown",
   "id": "f7d8569f",
   "metadata": {},
   "source": [
    "### UtilIzando o KNN para comparar com os resultados obtidos no trabalho anterior\n",
    "##### Músicas entre 1980 e 2019"
   ]
  },
  {
   "cell_type": "code",
   "execution_count": 5,
   "id": "62f2f7c8",
   "metadata": {},
   "outputs": [
    {
     "data": {
      "text/plain": [
       "decade\n",
       "1980    1500\n",
       "1990    1500\n",
       "2000    1500\n",
       "2010    1500\n",
       "dtype: int64"
      ]
     },
     "execution_count": 5,
     "metadata": {},
     "output_type": "execute_result"
    }
   ],
   "source": [
    "df_1980 = df[df['decade'] == 1980].sort_values(by=['popularity'], ascending=False)[:1500]\n",
    "df_1990 = df[df['decade'] == 1990].sort_values(by=['popularity'], ascending=False)[:1500]\n",
    "df_2000 = df[df['decade'] == 2000].sort_values(by=['popularity'], ascending=False)[:1500]\n",
    "df_2010 = df[df['decade'] == 2010].sort_values(by=['popularity'], ascending=False)[:1500]\n",
    "\n",
    "df_1980_a_2010 = pd.concat([df_1980, df_1990, df_2000, df_2010], ignore_index=True, sort=False)\n",
    "\n",
    "df_1980_a_2010.groupby('decade').size()"
   ]
  },
  {
   "cell_type": "code",
   "execution_count": 6,
   "id": "fd5f0d71",
   "metadata": {},
   "outputs": [],
   "source": [
    "X = df_1980_a_2010[['danceability', 'energy', 'key', 'loudness', 'mode', \n",
    "        'speechiness', 'acousticness', 'instrumentalness', 'liveness',\n",
    "        'valence', 'tempo', 'duration_ms', 'time_signature']]\n",
    "y = df_1980_a_2010['decade']\n",
    "\n",
    "X_train, X_test, y_train, y_test = train_test_split(X, y, test_size=0.3)"
   ]
  },
  {
   "cell_type": "code",
   "execution_count": 7,
   "id": "72a38976",
   "metadata": {},
   "outputs": [],
   "source": [
    "sc_X = StandardScaler()\n",
    "X_train = sc_X.fit_transform(X_train)\n",
    "X_test = sc_X.fit_transform(X_test)"
   ]
  },
  {
   "cell_type": "markdown",
   "id": "3213c4ec",
   "metadata": {},
   "source": [
    "#### Gerando o melhor valor para n_neighbors"
   ]
  },
  {
   "cell_type": "code",
   "execution_count": 8,
   "id": "c9fcb012",
   "metadata": {},
   "outputs": [
    {
     "data": {
      "text/plain": [
       "GridSearchCV(estimator=KNeighborsClassifier(),\n",
       "             param_grid={'n_neighbors': array([ 25,  40,  55,  70,  85, 100, 115, 130, 145, 160, 175, 190, 205,\n",
       "       220, 235, 250, 265, 280, 295, 310, 325, 340, 355, 370, 385, 400,\n",
       "       415, 430, 445, 460, 475, 490, 505, 520, 535, 550, 565, 580, 595,\n",
       "       610, 625, 640, 655, 670, 685, 700, 715, 730, 745, 760, 775, 790,\n",
       "       805, 820, 835, 850, 865, 880, 895, 910, 925, 940, 955, 970, 985])})"
      ]
     },
     "execution_count": 8,
     "metadata": {},
     "output_type": "execute_result"
    }
   ],
   "source": [
    "from sklearn.model_selection import GridSearchCV\n",
    "\n",
    "knn = KNeighborsClassifier()\n",
    "params = {'n_neighbors': np.arange(25, 1000, 15)}\n",
    "knn_gscv = GridSearchCV(knn, params)\n",
    "knn_gscv.fit(X, y)"
   ]
  },
  {
   "cell_type": "code",
   "execution_count": 9,
   "id": "c03cd7f8",
   "metadata": {},
   "outputs": [
    {
     "name": "stdout",
     "output_type": "stream",
     "text": [
      "Melhor resultado:  445\n"
     ]
    }
   ],
   "source": [
    "best_k = knn_gscv.best_params_['n_neighbors']\n",
    "print('Melhor resultado: ', best_k)"
   ]
  },
  {
   "cell_type": "markdown",
   "id": "ed63c803",
   "metadata": {},
   "source": [
    "#### Classificação"
   ]
  },
  {
   "cell_type": "code",
   "execution_count": 10,
   "id": "1e39bbc3",
   "metadata": {},
   "outputs": [],
   "source": [
    "classifier = KNeighborsClassifier(\n",
    "    n_neighbors=best_k, \n",
    "    p=4, # quantidade de décadas a serem testadas\n",
    "    metric='euclidean')"
   ]
  },
  {
   "cell_type": "code",
   "execution_count": 11,
   "id": "a125f005",
   "metadata": {},
   "outputs": [
    {
     "data": {
      "text/plain": [
       "KNeighborsClassifier(metric='euclidean', n_neighbors=445, p=4)"
      ]
     },
     "execution_count": 11,
     "metadata": {},
     "output_type": "execute_result"
    }
   ],
   "source": [
    "classifier.fit(X_train, y_train)"
   ]
  },
  {
   "cell_type": "code",
   "execution_count": 12,
   "id": "6200df57",
   "metadata": {},
   "outputs": [],
   "source": [
    "y_pred = classifier.predict(X_test)"
   ]
  },
  {
   "cell_type": "code",
   "execution_count": 13,
   "id": "b152c86d",
   "metadata": {},
   "outputs": [
    {
     "name": "stdout",
     "output_type": "stream",
     "text": [
      "[[270 107  43  49]\n",
      " [115 158 103  67]\n",
      " [ 56 144 168  93]\n",
      " [ 70  91 107 159]]\n"
     ]
    }
   ],
   "source": [
    "cm = confusion_matrix(y_test, y_pred)\n",
    "print(cm)"
   ]
  },
  {
   "cell_type": "code",
   "execution_count": 14,
   "id": "778d1727",
   "metadata": {},
   "outputs": [
    {
     "name": "stdout",
     "output_type": "stream",
     "text": [
      "f1_score:  0.4184984710509631\n"
     ]
    }
   ],
   "source": [
    "# # https://scikit-learn.org/stable/modules/generated/sklearn.metrics.f1_score.html\n",
    "print('f1_score: ', f1_score(y_test, y_pred, average='weighted'))"
   ]
  },
  {
   "cell_type": "code",
   "execution_count": 15,
   "id": "b70b566c",
   "metadata": {},
   "outputs": [
    {
     "name": "stdout",
     "output_type": "stream",
     "text": [
      "accuracy_score: 0.41944444444444445\n"
     ]
    }
   ],
   "source": [
    "print('accuracy_score:', accuracy_score(y_test, y_pred))"
   ]
  },
  {
   "cell_type": "code",
   "execution_count": 16,
   "id": "d3b3075b",
   "metadata": {},
   "outputs": [
    {
     "data": {
      "image/png": "[encoded data removed]",
      "text/plain": [
       "<Figure size 432x288 with 2 Axes>"
      ]
     },
     "metadata": {
      "needs_background": "light"
     },
     "output_type": "display_data"
    }
   ],
   "source": [
    "disp = plot_confusion_matrix(classifier, X_test, y_test,\n",
    "                             display_labels=[1980, 1990, 2000, 2010],\n",
    "                             cmap=plt.cm.Greens,\n",
    "                             normalize='true')\n",
    "plt.xlabel('Valores previstos')\n",
    "plt.ylabel('Valores reais')\n",
    "plt.show()"
   ]
  }
 ],
 "metadata": {
  "kernelspec": {
   "display_name": "Python 3 (ipykernel)",
   "language": "python",
   "name": "python3"
  },
  "language_info": {
   "codemirror_mode": {
    "name": "ipython",
    "version": 3
   },
   "file_extension": ".py",
   "mimetype": "text/x-python",
   "name": "python",
   "nbconvert_exporter": "python",
   "pygments_lexer": "ipython3",
   "version": "3.8.10"
  }
 },
 "nbformat": 4,
 "nbformat_minor": 5
}
