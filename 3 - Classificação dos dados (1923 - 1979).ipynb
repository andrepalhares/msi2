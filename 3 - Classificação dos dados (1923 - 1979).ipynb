{
 "cells": [
  {
   "cell_type": "code",
   "execution_count": 1,
   "id": "b47173c0",
   "metadata": {},
   "outputs": [],
   "source": [
    "import pandas as pd\n",
    "import numpy as np\n",
    "from sklearn.model_selection import train_test_split\n",
    "from sklearn.preprocessing import StandardScaler\n",
    "from sklearn.neighbors import KNeighborsClassifier \n",
    "from sklearn.metrics import confusion_matrix\n",
    "from sklearn.metrics import f1_score\n",
    "from sklearn.metrics import accuracy_score\n",
    "from sklearn.metrics import plot_confusion_matrix\n",
    "import matplotlib.pyplot as plt"
   ]
  },
  {
   "cell_type": "code",
   "execution_count": 2,
   "id": "0f4de8d0",
   "metadata": {},
   "outputs": [
    {
     "data": {
      "text/html": [
       "<div>\n",
       "<style scoped>\n",
       "    .dataframe tbody tr th:only-of-type {\n",
       "        vertical-align: middle;\n",
       "    }\n",
       "\n",
       "    .dataframe tbody tr th {\n",
       "        vertical-align: top;\n",
       "    }\n",
       "\n",
       "    .dataframe thead th {\n",
       "        text-align: right;\n",
       "    }\n",
       "</style>\n",
       "<table border=\"1\" class=\"dataframe\">\n",
       "  <thead>\n",
       "    <tr style=\"text-align: right;\">\n",
       "      <th></th>\n",
       "      <th>Unnamed: 0</th>\n",
       "      <th>id</th>\n",
       "      <th>name</th>\n",
       "      <th>album</th>\n",
       "      <th>album_id</th>\n",
       "      <th>artists</th>\n",
       "      <th>artist_ids</th>\n",
       "      <th>track_number</th>\n",
       "      <th>disc_number</th>\n",
       "      <th>explicit</th>\n",
       "      <th>...</th>\n",
       "      <th>acousticness</th>\n",
       "      <th>instrumentalness</th>\n",
       "      <th>liveness</th>\n",
       "      <th>valence</th>\n",
       "      <th>tempo</th>\n",
       "      <th>duration_ms</th>\n",
       "      <th>time_signature</th>\n",
       "      <th>year</th>\n",
       "      <th>release_date</th>\n",
       "      <th>popularity</th>\n",
       "    </tr>\n",
       "  </thead>\n",
       "  <tbody>\n",
       "    <tr>\n",
       "      <th>0</th>\n",
       "      <td>333</td>\n",
       "      <td>4MdlxZHzUi8fGvuXOtNVhb</td>\n",
       "      <td>Johnny B. Goode - Live</td>\n",
       "      <td>Johnny Winter: A Rock N' Roll Collection</td>\n",
       "      <td>6yn5Mylr8HsH9PVro7Fo22</td>\n",
       "      <td>['Johnny Winter']</td>\n",
       "      <td>['2ODUxmFxJSyvGiimNhMHbO']</td>\n",
       "      <td>1</td>\n",
       "      <td>1</td>\n",
       "      <td>False</td>\n",
       "      <td>...</td>\n",
       "      <td>0.023</td>\n",
       "      <td>0.077100</td>\n",
       "      <td>0.9410</td>\n",
       "      <td>0.924</td>\n",
       "      <td>159.366</td>\n",
       "      <td>203407</td>\n",
       "      <td>4</td>\n",
       "      <td>1973</td>\n",
       "      <td>1973</td>\n",
       "      <td>6</td>\n",
       "    </tr>\n",
       "    <tr>\n",
       "      <th>1</th>\n",
       "      <td>334</td>\n",
       "      <td>576DmaRTiVhm3l00mpQwDm</td>\n",
       "      <td>Good Morning Little School Girl - Live</td>\n",
       "      <td>Johnny Winter: A Rock N' Roll Collection</td>\n",
       "      <td>6yn5Mylr8HsH9PVro7Fo22</td>\n",
       "      <td>['Johnny Winter']</td>\n",
       "      <td>['2ODUxmFxJSyvGiimNhMHbO']</td>\n",
       "      <td>2</td>\n",
       "      <td>1</td>\n",
       "      <td>False</td>\n",
       "      <td>...</td>\n",
       "      <td>0.188</td>\n",
       "      <td>0.422000</td>\n",
       "      <td>0.9740</td>\n",
       "      <td>0.639</td>\n",
       "      <td>187.886</td>\n",
       "      <td>276968</td>\n",
       "      <td>4</td>\n",
       "      <td>1973</td>\n",
       "      <td>1973</td>\n",
       "      <td>4</td>\n",
       "    </tr>\n",
       "    <tr>\n",
       "      <th>2</th>\n",
       "      <td>335</td>\n",
       "      <td>3k3Q8IZ5oOqCUfOP2UPgpW</td>\n",
       "      <td>I'll Drown in My Tears</td>\n",
       "      <td>Johnny Winter: A Rock N' Roll Collection</td>\n",
       "      <td>6yn5Mylr8HsH9PVro7Fo22</td>\n",
       "      <td>['Johnny Winter']</td>\n",
       "      <td>['2ODUxmFxJSyvGiimNhMHbO']</td>\n",
       "      <td>3</td>\n",
       "      <td>1</td>\n",
       "      <td>False</td>\n",
       "      <td>...</td>\n",
       "      <td>0.827</td>\n",
       "      <td>0.000021</td>\n",
       "      <td>0.0742</td>\n",
       "      <td>0.390</td>\n",
       "      <td>95.799</td>\n",
       "      <td>285360</td>\n",
       "      <td>3</td>\n",
       "      <td>1973</td>\n",
       "      <td>1973</td>\n",
       "      <td>2</td>\n",
       "    </tr>\n",
       "    <tr>\n",
       "      <th>3</th>\n",
       "      <td>336</td>\n",
       "      <td>1fuxmrrP5JKu0eeHi1c7Ug</td>\n",
       "      <td>When You Got A Good Friend</td>\n",
       "      <td>Johnny Winter: A Rock N' Roll Collection</td>\n",
       "      <td>6yn5Mylr8HsH9PVro7Fo22</td>\n",
       "      <td>['Johnny Winter']</td>\n",
       "      <td>['2ODUxmFxJSyvGiimNhMHbO']</td>\n",
       "      <td>4</td>\n",
       "      <td>1</td>\n",
       "      <td>False</td>\n",
       "      <td>...</td>\n",
       "      <td>0.831</td>\n",
       "      <td>0.030000</td>\n",
       "      <td>0.1680</td>\n",
       "      <td>0.787</td>\n",
       "      <td>146.244</td>\n",
       "      <td>218453</td>\n",
       "      <td>4</td>\n",
       "      <td>1973</td>\n",
       "      <td>1973</td>\n",
       "      <td>3</td>\n",
       "    </tr>\n",
       "    <tr>\n",
       "      <th>4</th>\n",
       "      <td>337</td>\n",
       "      <td>6yziyzrBhA2mFApoJKAill</td>\n",
       "      <td>Be Careful with a Fool</td>\n",
       "      <td>Johnny Winter: A Rock N' Roll Collection</td>\n",
       "      <td>6yn5Mylr8HsH9PVro7Fo22</td>\n",
       "      <td>['Johnny Winter']</td>\n",
       "      <td>['2ODUxmFxJSyvGiimNhMHbO']</td>\n",
       "      <td>5</td>\n",
       "      <td>1</td>\n",
       "      <td>False</td>\n",
       "      <td>...</td>\n",
       "      <td>0.494</td>\n",
       "      <td>0.022300</td>\n",
       "      <td>0.2080</td>\n",
       "      <td>0.730</td>\n",
       "      <td>206.991</td>\n",
       "      <td>315133</td>\n",
       "      <td>3</td>\n",
       "      <td>1973</td>\n",
       "      <td>1973</td>\n",
       "      <td>4</td>\n",
       "    </tr>\n",
       "  </tbody>\n",
       "</table>\n",
       "<p>5 rows × 26 columns</p>\n",
       "</div>"
      ],
      "text/plain": [
       "   Unnamed: 0                      id                                    name  \\\n",
       "0         333  4MdlxZHzUi8fGvuXOtNVhb                  Johnny B. Goode - Live   \n",
       "1         334  576DmaRTiVhm3l00mpQwDm  Good Morning Little School Girl - Live   \n",
       "2         335  3k3Q8IZ5oOqCUfOP2UPgpW                  I'll Drown in My Tears   \n",
       "3         336  1fuxmrrP5JKu0eeHi1c7Ug              When You Got A Good Friend   \n",
       "4         337  6yziyzrBhA2mFApoJKAill                  Be Careful with a Fool   \n",
       "\n",
       "                                      album                album_id  \\\n",
       "0  Johnny Winter: A Rock N' Roll Collection  6yn5Mylr8HsH9PVro7Fo22   \n",
       "1  Johnny Winter: A Rock N' Roll Collection  6yn5Mylr8HsH9PVro7Fo22   \n",
       "2  Johnny Winter: A Rock N' Roll Collection  6yn5Mylr8HsH9PVro7Fo22   \n",
       "3  Johnny Winter: A Rock N' Roll Collection  6yn5Mylr8HsH9PVro7Fo22   \n",
       "4  Johnny Winter: A Rock N' Roll Collection  6yn5Mylr8HsH9PVro7Fo22   \n",
       "\n",
       "             artists                  artist_ids  track_number  disc_number  \\\n",
       "0  ['Johnny Winter']  ['2ODUxmFxJSyvGiimNhMHbO']             1            1   \n",
       "1  ['Johnny Winter']  ['2ODUxmFxJSyvGiimNhMHbO']             2            1   \n",
       "2  ['Johnny Winter']  ['2ODUxmFxJSyvGiimNhMHbO']             3            1   \n",
       "3  ['Johnny Winter']  ['2ODUxmFxJSyvGiimNhMHbO']             4            1   \n",
       "4  ['Johnny Winter']  ['2ODUxmFxJSyvGiimNhMHbO']             5            1   \n",
       "\n",
       "   explicit  ...  acousticness  instrumentalness  liveness  valence    tempo  \\\n",
       "0     False  ...         0.023          0.077100    0.9410    0.924  159.366   \n",
       "1     False  ...         0.188          0.422000    0.9740    0.639  187.886   \n",
       "2     False  ...         0.827          0.000021    0.0742    0.390   95.799   \n",
       "3     False  ...         0.831          0.030000    0.1680    0.787  146.244   \n",
       "4     False  ...         0.494          0.022300    0.2080    0.730  206.991   \n",
       "\n",
       "   duration_ms  time_signature  year  release_date  popularity  \n",
       "0       203407               4  1973          1973           6  \n",
       "1       276968               4  1973          1973           4  \n",
       "2       285360               3  1973          1973           2  \n",
       "3       218453               4  1973          1973           3  \n",
       "4       315133               3  1973          1973           4  \n",
       "\n",
       "[5 rows x 26 columns]"
      ]
     },
     "execution_count": 2,
     "metadata": {},
     "output_type": "execute_result"
    }
   ],
   "source": [
    "df = pd.read_excel('tracks_features_plus_popularity_1922_1979.xlsx')\n",
    "df = df[df['year'] >= 1923]\n",
    "df.head()"
   ]
  },
  {
   "cell_type": "code",
   "execution_count": 3,
   "id": "1ed747fb",
   "metadata": {},
   "outputs": [],
   "source": [
    "def obter_decada(linha):\n",
    "    ano = str(linha['year'])\n",
    "    return int(ano[:3] + \"0\")\n",
    "\n",
    "df['decade'] = df.apply (lambda x: obter_decada(x), axis=1)"
   ]
  },
  {
   "cell_type": "code",
   "execution_count": 4,
   "id": "8fac6360",
   "metadata": {},
   "outputs": [
    {
     "data": {
      "text/plain": [
       "decade\n",
       "1920     129\n",
       "1930     210\n",
       "1940     174\n",
       "1950     940\n",
       "1960    3547\n",
       "1970    8517\n",
       "dtype: int64"
      ]
     },
     "execution_count": 4,
     "metadata": {},
     "output_type": "execute_result"
    }
   ],
   "source": [
    "df = df[df['decade'] != \"00\"]\n",
    "df[df['popularity'] >= 10].groupby('decade').size()"
   ]
  },
  {
   "cell_type": "markdown",
   "id": "9eb63390",
   "metadata": {},
   "source": [
    "### UtilIzando o KNN para classificar músicas do período anterior\n",
    "##### Músicas entre 1922 e 1979"
   ]
  },
  {
   "cell_type": "code",
   "execution_count": 5,
   "id": "367dcfe1",
   "metadata": {},
   "outputs": [
    {
     "data": {
      "text/plain": [
       "decade\n",
       "1920    129\n",
       "1930    129\n",
       "1940    129\n",
       "1950    129\n",
       "1960    129\n",
       "1970    129\n",
       "dtype: int64"
      ]
     },
     "execution_count": 5,
     "metadata": {},
     "output_type": "execute_result"
    }
   ],
   "source": [
    "df_1920 = df[df['decade'] == 1920].sort_values(by=['popularity'], ascending=False)[:129]\n",
    "df_1930 = df[df['decade'] == 1930].sort_values(by=['popularity'], ascending=False)[:129]\n",
    "df_1940 = df[df['decade'] == 1940].sort_values(by=['popularity'], ascending=False)[:129]\n",
    "df_1950 = df[df['decade'] == 1950].sort_values(by=['popularity'], ascending=False)[:129]\n",
    "df_1960 = df[df['decade'] == 1960].sort_values(by=['popularity'], ascending=False)[:129]\n",
    "df_1970 = df[df['decade'] == 1970].sort_values(by=['popularity'], ascending=False)[:129]\n",
    "\n",
    "df_1922_a_1980 = pd.concat([df_1920, df_1930, df_1940, df_1950, df_1960, df_1970], ignore_index=True, sort=False)\n",
    "\n",
    "df_1922_a_1980.groupby('decade').size()"
   ]
  },
  {
   "cell_type": "code",
   "execution_count": 6,
   "id": "d1b9f60e",
   "metadata": {},
   "outputs": [],
   "source": [
    "X = df_1922_a_1980[['danceability', 'energy', 'key', 'loudness', 'mode', \n",
    "        'speechiness', 'acousticness', 'instrumentalness', 'liveness', \n",
    "        'valence', 'tempo', 'duration_ms', 'time_signature']]\n",
    "y = df_1922_a_1980['decade']\n",
    "\n",
    "X_train, X_test, y_train, y_test = train_test_split(X, y, test_size=0.3)"
   ]
  },
  {
   "cell_type": "code",
   "execution_count": 7,
   "id": "ec61b296",
   "metadata": {},
   "outputs": [],
   "source": [
    "sc_X = StandardScaler()\n",
    "X_train = sc_X.fit_transform(X_train)\n",
    "X_test = sc_X.fit_transform(X_test)"
   ]
  },
  {
   "cell_type": "markdown",
   "id": "9760c9d2",
   "metadata": {},
   "source": [
    "#### Gerando o melhor valor para k"
   ]
  },
  {
   "cell_type": "code",
   "execution_count": 8,
   "id": "05d787a6",
   "metadata": {},
   "outputs": [
    {
     "data": {
      "text/plain": [
       "GridSearchCV(estimator=KNeighborsClassifier(),\n",
       "             param_grid={'n_neighbors': array([ 10,  15,  20,  25,  30,  35,  40,  45,  50,  55,  60,  65,  70,\n",
       "        75,  80,  85,  90,  95, 100, 105, 110, 115, 120, 125, 130, 135,\n",
       "       140, 145, 150, 155, 160, 165, 170, 175, 180, 185, 190, 195])})"
      ]
     },
     "execution_count": 8,
     "metadata": {},
     "output_type": "execute_result"
    }
   ],
   "source": [
    "from sklearn.model_selection import GridSearchCV\n",
    "\n",
    "knn = KNeighborsClassifier()\n",
    "params = {'n_neighbors': np.arange(10, 200, 5)}\n",
    "knn_gscv = GridSearchCV(knn, params)\n",
    "knn_gscv.fit(X, y)"
   ]
  },
  {
   "cell_type": "code",
   "execution_count": 9,
   "id": "db71fbf4",
   "metadata": {},
   "outputs": [
    {
     "name": "stdout",
     "output_type": "stream",
     "text": [
      "Melhor resultado:  35\n"
     ]
    }
   ],
   "source": [
    "best_k = knn_gscv.best_params_['n_neighbors']\n",
    "print('Melhor resultado: ', best_k)"
   ]
  },
  {
   "cell_type": "markdown",
   "id": "b1092c56",
   "metadata": {},
   "source": [
    "#### Classificação"
   ]
  },
  {
   "cell_type": "code",
   "execution_count": 10,
   "id": "0a729fc5",
   "metadata": {},
   "outputs": [],
   "source": [
    "classifier = KNeighborsClassifier(\n",
    "    n_neighbors=best_k, \n",
    "    p=6, # quantidade de décadas a serem testadas\n",
    "    metric='euclidean')"
   ]
  },
  {
   "cell_type": "code",
   "execution_count": 11,
   "id": "d7c3ef54",
   "metadata": {},
   "outputs": [
    {
     "data": {
      "text/plain": [
       "KNeighborsClassifier(metric='euclidean', n_neighbors=35, p=6)"
      ]
     },
     "execution_count": 11,
     "metadata": {},
     "output_type": "execute_result"
    }
   ],
   "source": [
    "classifier.fit(X_train, y_train)"
   ]
  },
  {
   "cell_type": "code",
   "execution_count": 12,
   "id": "c3a8e8ad",
   "metadata": {},
   "outputs": [],
   "source": [
    "y_pred = classifier.predict(X_test)"
   ]
  },
  {
   "cell_type": "code",
   "execution_count": 13,
   "id": "f6738902",
   "metadata": {},
   "outputs": [
    {
     "name": "stdout",
     "output_type": "stream",
     "text": [
      "[[25 11  2  0  1  0]\n",
      " [ 8 31  3  0  1  1]\n",
      " [ 6 10 18  2  2  1]\n",
      " [ 5  9 12  6  7  2]\n",
      " [ 4  3  4  2 10  4]\n",
      " [ 0  3  2  3  9 26]]\n"
     ]
    }
   ],
   "source": [
    "cm = confusion_matrix(y_test, y_pred)\n",
    "print(cm)"
   ]
  },
  {
   "cell_type": "code",
   "execution_count": 14,
   "id": "f85d5fb7",
   "metadata": {},
   "outputs": [
    {
     "name": "stdout",
     "output_type": "stream",
     "text": [
      "f1_score:  0.4813910988867953\n"
     ]
    }
   ],
   "source": [
    "# # https://scikit-learn.org/stable/modules/generated/sklearn.metrics.f1_score.html\n",
    "print('f1_score: ', f1_score(y_test, y_pred, average='weighted'))"
   ]
  },
  {
   "cell_type": "code",
   "execution_count": 15,
   "id": "9392b8a6",
   "metadata": {},
   "outputs": [
    {
     "name": "stdout",
     "output_type": "stream",
     "text": [
      "accuracy_score: 0.4978540772532189\n"
     ]
    }
   ],
   "source": [
    "print('accuracy_score:', accuracy_score(y_test, y_pred))"
   ]
  },
  {
   "cell_type": "code",
   "execution_count": 16,
   "id": "6017f73b",
   "metadata": {},
   "outputs": [
    {
     "data": {
      "image/png": "[encoded data removed]",
      "text/plain": [
       "<Figure size 432x288 with 2 Axes>"
      ]
     },
     "metadata": {
      "needs_background": "light"
     },
     "output_type": "display_data"
    }
   ],
   "source": [
    "disp = plot_confusion_matrix(classifier, X_test, y_test,\n",
    "                             display_labels=[1920, 1930, 1940, 1950, 1960, 1970],\n",
    "                             cmap=plt.cm.Greens,\n",
    "                             normalize='true')\n",
    "plt.xlabel('Valores previstos')\n",
    "plt.ylabel('Valores reais')\n",
    "plt.show()"
   ]
  }
 ],
 "metadata": {
  "kernelspec": {
   "display_name": "Python 3 (ipykernel)",
   "language": "python",
   "name": "python3"
  },
  "language_info": {
   "codemirror_mode": {
    "name": "ipython",
    "version": 3
   },
   "file_extension": ".py",
   "mimetype": "text/x-python",
   "name": "python",
   "nbconvert_exporter": "python",
   "pygments_lexer": "ipython3",
   "version": "3.8.10"
  }
 },
 "nbformat": 4,
 "nbformat_minor": 5
}
